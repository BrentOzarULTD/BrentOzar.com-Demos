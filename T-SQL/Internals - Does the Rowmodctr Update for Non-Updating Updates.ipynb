{
    "metadata": {
        "kernelspec": {
            "name": "SQL",
            "display_name": "SQL",
            "language": "sql"
        },
        "language_info": {
            "name": "sql",
            "version": ""
        }
    },
    "nbformat_minor": 2,
    "nbformat": 4,
    "cells": [
        {
            "cell_type": "markdown",
            "source": "# Does the Rowmodctr Update for Non-Updating Updates?\n\n* Source: https://www.brentozar.com/archive/2019/05/does-the-rowmodctr-update-for-non-updating-updates/\n* Last updated: 2019/05/16\n* License: [CC BY-SA 3.0: Creative Commons Attribution-ShareAlike 3.0 Unported](https://creativecommons.org/licenses/by-sa/3.0/)\n* Data contents: made-up data\n* Requires: any supported version of SQL Server or Azure SQL DB\n\nOkay, look, it's a mouthful of a blog post title, and there are only gonna be maybe six of us in the world who get excited enough to check this kind of thing, but if you're in that intimate group, then the title's already got you interested in the demo. (Shout out to Riddhi P. for asking this cool question in class.)\n\nThe system table sys.sysindexes has a rowmodctr that tells you how many times rows have been updated in an object. This comes in handy when we need to figure out if it's time to update the statistics on a table.\n\nTo set the stage, let's create a table, put a couple of indexes on it, and check rowmodctr to see how many changes have been made:",
            "metadata": {}
        },
        {
            "cell_type": "code",
            "source": "/* Create a test table with two indexes */\nCREATE TABLE dbo.People (ID INT IDENTITY(1,1), PersonName VARCHAR(200));\nCREATE UNIQUE CLUSTERED INDEX CL_ID ON dbo.People(ID);\nCREATE NONCLUSTERED INDEX IX_PersonName ON dbo.People(PersonName);\n\n/* Check the rowmodctr: */\nSELECT name, rows, rowcnt, rowmodctr\nFROM sys.sysindexes i\nWHERE name IN ('CL_ID', 'IX_PersonName');",
            "metadata": {},
            "outputs": [
                {
                    "output_type": "display_data",
                    "data": {
                        "text/html": "(2 rows affected)"
                    },
                    "metadata": {}
                },
                {
                    "output_type": "display_data",
                    "data": {
                        "text/html": "Total execution time: 00:00:01.336"
                    },
                    "metadata": {}
                },
                {
                    "output_type": "execute_result",
                    "metadata": {},
                    "execution_count": 6,
                    "data": {
                        "application/vnd.dataresource+json": {
                            "schema": {
                                "fields": [
                                    {
                                        "name": "name"
                                    },
                                    {
                                        "name": "rows"
                                    },
                                    {
                                        "name": "rowcnt"
                                    },
                                    {
                                        "name": "rowmodctr"
                                    }
                                ]
                            },
                            "data": [
                                {
                                    "0": "CL_ID",
                                    "1": "0",
                                    "2": "0",
                                    "3": "0"
                                },
                                {
                                    "0": "IX_PersonName",
                                    "1": "0",
                                    "2": "0",
                                    "3": "0"
                                }
                            ]
                        },
                        "text/html": "<table><tr><th>name</th><th>rows</th><th>rowcnt</th><th>rowmodctr</th></tr><tr><td>CL_ID</td><td>0</td><td>0</td><td>0</td></tr><tr><td>IX_PersonName</td><td>0</td><td>0</td><td>0</td></tr></table>"
                    }
                }
            ],
            "execution_count": 6
        },
        {
            "cell_type": "markdown",
            "source": "No rows have been modified yet since no data has been loaded. Let's load 1,000 rows of data, and then check rowmodctr to see how many modifications have been made to the table:",
            "metadata": {}
        },
        {
            "cell_type": "code",
            "source": "/* Insert 1,000 rows. */\nINSERT INTO dbo.People(PersonName)\nSELECT TOP 1000 'Slim Shady'\nFROM sys.all_columns;\n\n/* Check the rowmodctr: */\nSELECT name, rows, rowcnt, rowmodctr\nFROM sys.sysindexes i\nWHERE name IN ('CL_ID', 'IX_PersonName');",
            "metadata": {},
            "outputs": [
                {
                    "output_type": "display_data",
                    "data": {
                        "text/html": "(1000 rows affected)"
                    },
                    "metadata": {}
                },
                {
                    "output_type": "display_data",
                    "data": {
                        "text/html": "(2 rows affected)"
                    },
                    "metadata": {}
                },
                {
                    "output_type": "display_data",
                    "data": {
                        "text/html": "Total execution time: 00:00:06.550"
                    },
                    "metadata": {}
                },
                {
                    "output_type": "execute_result",
                    "metadata": {},
                    "execution_count": 7,
                    "data": {
                        "application/vnd.dataresource+json": {
                            "schema": {
                                "fields": [
                                    {
                                        "name": "name"
                                    },
                                    {
                                        "name": "rows"
                                    },
                                    {
                                        "name": "rowcnt"
                                    },
                                    {
                                        "name": "rowmodctr"
                                    }
                                ]
                            },
                            "data": [
                                {
                                    "0": "CL_ID",
                                    "1": "1000",
                                    "2": "1000",
                                    "3": "1000"
                                },
                                {
                                    "0": "IX_PersonName",
                                    "1": "1000",
                                    "2": "1000",
                                    "3": "1000"
                                }
                            ]
                        },
                        "text/html": "<table><tr><th>name</th><th>rows</th><th>rowcnt</th><th>rowmodctr</th></tr><tr><td>CL_ID</td><td>1000</td><td>1000</td><td>1000</td></tr><tr><td>IX_PersonName</td><td>1000</td><td>1000</td><td>1000</td></tr></table>"
                    }
                }
            ],
            "execution_count": 7
        },
        {
            "cell_type": "markdown",
            "source": "Rowmodctr is 1,000 because 1,000 rows have been modified in the table - hey, inserts count as modifications.\n\nNow the fun starts: let's update everybody's PersonName to be the same thing:",
            "metadata": {}
        },
        {
            "cell_type": "code",
            "source": "/* Update the name to be its own value again: */\nUPDATE dbo.People\nSET PersonName = 'Slim Shady';\nGO\n\n/* Check rowmodctr again: */\nSELECT name, rows, rowcnt, rowmodctr\nFROM sys.sysindexes i\nWHERE name IN ('CL_ID', 'IX_PersonName');",
            "metadata": {},
            "outputs": [
                {
                    "output_type": "display_data",
                    "data": {
                        "text/html": "(1000 rows affected)"
                    },
                    "metadata": {}
                },
                {
                    "output_type": "display_data",
                    "data": {
                        "text/html": "(2 rows affected)"
                    },
                    "metadata": {}
                },
                {
                    "output_type": "display_data",
                    "data": {
                        "text/html": "Total execution time: 00:00:01.709"
                    },
                    "metadata": {}
                },
                {
                    "output_type": "execute_result",
                    "metadata": {},
                    "execution_count": 8,
                    "data": {
                        "application/vnd.dataresource+json": {
                            "schema": {
                                "fields": [
                                    {
                                        "name": "name"
                                    },
                                    {
                                        "name": "rows"
                                    },
                                    {
                                        "name": "rowcnt"
                                    },
                                    {
                                        "name": "rowmodctr"
                                    }
                                ]
                            },
                            "data": [
                                {
                                    "0": "CL_ID",
                                    "1": "1000",
                                    "2": "1000",
                                    "3": "1000"
                                },
                                {
                                    "0": "IX_PersonName",
                                    "1": "1000",
                                    "2": "1000",
                                    "3": "2000"
                                }
                            ]
                        },
                        "text/html": "<table><tr><th>name</th><th>rows</th><th>rowcnt</th><th>rowmodctr</th></tr><tr><td>CL_ID</td><td>1000</td><td>1000</td><td>1000</td></tr><tr><td>IX_PersonName</td><td>1000</td><td>1000</td><td>2000</td></tr></table>"
                    }
                }
            ],
            "execution_count": 8
        },
        {
            "cell_type": "markdown",
            "source": "Remember, we had rowmodctr 1,000 for both indexes just a second ago.\n\nI'm gonna be honest with you, dear reader: this was not the result I expected.\n\nAs a naive, delicate flower, I expected SQL Server to treat the rowmodctr the same way on both the clustered and nonclustered indexes. Instead, here we're showing zero new modifications on the clustered index, but 1,000 new modifications on the name index.\n\nIn the big scheme of things, this isn't a showstopper problem. It's not like I'm over here waving my hands going, \"OMG, this violates the laws of space and time!\" It's a system table, and if anybody's relying on this thing for razor-sharp accuracy, they probably deserve what's coming to them. I just find it so amusing that it's handled differently on the two kinds of indexes - even though neither of them were modified. Huh.\n\nHow about if we explicitly tell SQL Server to set it to the same value:",
            "metadata": {}
        },
        {
            "cell_type": "code",
            "source": "UPDATE dbo.People\nSET PersonName = PersonName;\n\n/* Check the rowmodctr: */\nSELECT name, rows, rowcnt, rowmodctr\nFROM sys.sysindexes i\nWHERE name IN ('CL_ID', 'IX_PersonName');",
            "metadata": {},
            "outputs": [
                {
                    "output_type": "display_data",
                    "data": {
                        "text/html": "(1000 rows affected)"
                    },
                    "metadata": {}
                },
                {
                    "output_type": "display_data",
                    "data": {
                        "text/html": "(2 rows affected)"
                    },
                    "metadata": {}
                },
                {
                    "output_type": "display_data",
                    "data": {
                        "text/html": "Total execution time: 00:00:01.834"
                    },
                    "metadata": {}
                },
                {
                    "output_type": "execute_result",
                    "metadata": {},
                    "execution_count": 9,
                    "data": {
                        "application/vnd.dataresource+json": {
                            "schema": {
                                "fields": [
                                    {
                                        "name": "name"
                                    },
                                    {
                                        "name": "rows"
                                    },
                                    {
                                        "name": "rowcnt"
                                    },
                                    {
                                        "name": "rowmodctr"
                                    }
                                ]
                            },
                            "data": [
                                {
                                    "0": "CL_ID",
                                    "1": "1000",
                                    "2": "1000",
                                    "3": "1000"
                                },
                                {
                                    "0": "IX_PersonName",
                                    "1": "1000",
                                    "2": "1000",
                                    "3": "3000"
                                }
                            ]
                        },
                        "text/html": "<table><tr><th>name</th><th>rows</th><th>rowcnt</th><th>rowmodctr</th></tr><tr><td>CL_ID</td><td>1000</td><td>1000</td><td>1000</td></tr><tr><td>IX_PersonName</td><td>1000</td><td>1000</td><td>3000</td></tr></table>"
                    }
                }
            ],
            "execution_count": 9
        },
        {
            "cell_type": "markdown",
            "source": "The nonclustered index shows modifications, and the clustered index doesn't.\n\n## So what's the takeaway?\n\nI don't think this is a performance-shattering problem: it's probably fairly rare that you find an application that runs updates even when no changes were made.\n\nTo be clear, the fix isn't to switch to a delete-the-old-row-and-insert-a-new-row design pattern: that would be twice as bad, since now you're doubling the number of rows modified with each operation.",
            "metadata": {}
        },
        {
            "cell_type": "code",
            "source": "DROP TABLE dbo.People;",
            "metadata": {},
            "outputs": [
                {
                    "output_type": "display_data",
                    "data": {
                        "text/html": "Commands completed successfully."
                    },
                    "metadata": {}
                },
                {
                    "output_type": "display_data",
                    "data": {
                        "text/html": "Total execution time: 00:00:00.891"
                    },
                    "metadata": {}
                }
            ],
            "execution_count": 10
        }
    ]
}