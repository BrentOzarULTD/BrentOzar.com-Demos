{
    "metadata": {
        "kernelspec": {
            "name": "SQL",
            "display_name": "SQL",
            "language": "sql"
        },
        "language_info": {
            "name": "sql",
            "version": ""
        }
    },
    "nbformat_minor": 2,
    "nbformat": 4,
    "cells": [
        {
            "cell_type": "markdown",
            "source": "# The Silent Bug I Find in Most Triggers\n\n* Source: https://www.brentozar.com/archive/2019/05/the-silent-bug-i-find-in-most-triggers\n* Last updated: 2019/05/05\n* License: [CC BY-SA 3.0: Creative Commons Attribution-ShareAlike 3.0 Unported](https://creativecommons.org/licenses/by-sa/3.0/)\n* Data contents: [Stack Overflow data dump](https://archive.org/details/stackexchange)\n* Requires: any supported version of SQL Server or Azure SQL DB, any Stack Overflow database\n\nMost triggers I run across have a really, really dangerous bug. Let's say we want to add a trigger on the Stack Overflow database's Users table. Whenever someone's Reputation is over 1,000 points, we're going to set their AboutMe to declare that they're famous:",
            "metadata": {}
        },
        {
            "cell_type": "code",
            "source": "CREATE OR ALTER TRIGGER trUserIsFamous ON dbo.Users\nAFTER UPDATE\nAS\nBEGIN\nDECLARE @Id INT, @Reputation INT;\nSELECT @Id = Id, @Reputation = Reputation\n  FROM INSERTED;\n\nIF @Reputation > 1000\n   UPDATE dbo.Users\n   SET AboutMe = 'FAMOUS FOR A HIGH REPUTATION!'\n   FROM dbo.Users u\n   WHERE Id = @Id;\nEND\nGO",
            "metadata": {},
            "outputs": [
                {
                    "output_type": "display_data",
                    "data": {
                        "text/html": "Commands completed successfully."
                    },
                    "metadata": {}
                },
                {
                    "output_type": "display_data",
                    "data": {
                        "text/html": "Total execution time: 00:00:00.0188990"
                    },
                    "metadata": {}
                }
            ],
            "execution_count": 17
        },
        {
            "cell_type": "markdown",
            "source": "That trigger assumes only one row will be in the DELETED table, which would be true - as long as we only update one row at a time. But what if a query updates multiple rows in a single transaction?\n\nLet's say we want to award a free reputation point to everyone in Brazil. Here are some of the people we're going to affect:",
            "metadata": {}
        },
        {
            "cell_type": "code",
            "source": "SELECT TOP 20 *\n  FROM dbo.Users\n  WHERE Location = 'Brazil';",
            "metadata": {},
            "outputs": [
                {
                    "output_type": "display_data",
                    "data": {
                        "text/html": "(20 rows affected)"
                    },
                    "metadata": {}
                },
                {
                    "output_type": "display_data",
                    "data": {
                        "text/html": "Total execution time: 00:00:00.6697190"
                    },
                    "metadata": {}
                },
                {
                    "output_type": "execute_result",
                    "execution_count": 18,
                    "data": {
                        "application/vnd.dataresource+json": {
                            "schema": {
                                "fields": [
                                    {
                                        "name": "Id"
                                    },
                                    {
                                        "name": "AboutMe"
                                    },
                                    {
                                        "name": "Age"
                                    },
                                    {
                                        "name": "CreationDate"
                                    },
                                    {
                                        "name": "DisplayName"
                                    },
                                    {
                                        "name": "DownVotes"
                                    },
                                    {
                                        "name": "EmailHash"
                                    },
                                    {
                                        "name": "LastAccessDate"
                                    },
                                    {
                                        "name": "Location"
                                    },
                                    {
                                        "name": "Reputation"
                                    },
                                    {
                                        "name": "UpVotes"
                                    },
                                    {
                                        "name": "Views"
                                    },
                                    {
                                        "name": "WebsiteUrl"
                                    },
                                    {
                                        "name": "AccountId"
                                    }
                                ]
                            },
                            "data": [
                                {
                                    "0": "626",
                                    "1": "I'm the creator of Sinática and the renowned Sinática Monitor for Firebird.  \r\nBesides computers, I enjoy trying new espressos.",
                                    "2": "NULL",
                                    "3": "2008-08-07 11:52:05.957",
                                    "4": "Douglas Tosi",
                                    "5": "3",
                                    "6": "NULL",
                                    "7": "2018-01-12 16:44:17.287",
                                    "8": "Brazil",
                                    "9": "1812",
                                    "10": "154",
                                    "11": "287",
                                    "12": "http://www.sinatica.com",
                                    "13": "484"
                                },
                                {
                                    "0": "727",
                                    "1": "Just a developer wannabe.",
                                    "2": "NULL",
                                    "3": "2008-08-08 12:16:17.820",
                                    "4": "Fabio Gomes",
                                    "5": "45",
                                    "6": "NULL",
                                    "7": "2018-09-01 18:52:56.917",
                                    "8": "Brazil",
                                    "9": "3666",
                                    "10": "596",
                                    "11": "800",
                                    "12": "http://yacoding.blogspot.com",
                                    "13": "561"
                                },
                                {
                                    "0": "802",
                                    "1": "<p>Just someone trying to learn something...</p>\n",
                                    "2": "NULL",
                                    "3": "2008-08-09 02:50:52.577",
                                    "4": "Flávio Amieiro",
                                    "5": "7",
                                    "6": "NULL",
                                    "7": "2018-06-04 09:13:58.670",
                                    "8": "Brazil",
                                    "9": "14495",
                                    "10": "258",
                                    "11": "678",
                                    "12": "http://flavioamieiro.com",
                                    "13": "612"
                                },
                                {
                                    "0": "1100",
                                    "1": "",
                                    "2": "NULL",
                                    "3": "2008-08-12 11:58:29.663",
                                    "4": "Daniel Silveira",
                                    "5": "14",
                                    "6": "NULL",
                                    "7": "2013-09-14 02:52:14.097",
                                    "8": "Brazil",
                                    "9": "15929",
                                    "10": "295",
                                    "11": "1461",
                                    "12": "http://enerjy.sys-con.com/author/6412",
                                    "13": "839"
                                },
                                {
                                    "0": "1213",
                                    "1": "",
                                    "2": "NULL",
                                    "3": "2008-08-13 13:18:30.890",
                                    "4": "André Casteliano",
                                    "5": "1",
                                    "6": "NULL",
                                    "7": "2018-08-29 17:37:35.787",
                                    "8": "Brazil",
                                    "9": "431",
                                    "10": "131",
                                    "11": "76",
                                    "12": "NULL",
                                    "13": "922"
                                },
                                {
                                    "0": "2015",
                                    "1": "<p>Product Manager and Developer at a financial technology provider.</p>\n\n<p>Living and working in Rio de Janeiro, Brazil</p>\n",
                                    "2": "NULL",
                                    "3": "2008-08-19 19:42:43.420",
                                    "4": "Gustavo",
                                    "5": "12",
                                    "6": "NULL",
                                    "7": "2018-08-21 13:45:51.207",
                                    "8": "Brazil",
                                    "9": "601",
                                    "10": "576",
                                    "11": "235",
                                    "12": "",
                                    "13": "1509"
                                },
                                {
                                    "0": "2267",
                                    "1": "",
                                    "2": "NULL",
                                    "3": "2008-08-21 12:23:14.943",
                                    "4": "João Vieira",
                                    "5": "0",
                                    "6": "NULL",
                                    "7": "2018-09-01 13:26:59.693",
                                    "8": "Brazil",
                                    "9": "931",
                                    "10": "197",
                                    "11": "102",
                                    "12": "http://www.sia.net.br",
                                    "13": "1679"
                                },
                                {
                                    "0": "2274",
                                    "1": "NULL",
                                    "2": "NULL",
                                    "3": "2008-08-21 12:44:42.223",
                                    "4": "Fernando Barrocal",
                                    "5": "71",
                                    "6": "NULL",
                                    "7": "2018-08-31 14:46:27.387",
                                    "8": "Brazil",
                                    "9": "6284",
                                    "10": "107",
                                    "11": "529",
                                    "12": "http://fernando.barrocal.com/",
                                    "13": "1685"
                                },
                                {
                                    "0": "2333",
                                    "1": "",
                                    "2": "NULL",
                                    "3": "2008-08-21 16:56:11.823",
                                    "4": "Felipe",
                                    "5": "0",
                                    "6": "NULL",
                                    "7": "2008-09-28 07:38:25.930",
                                    "8": "Brazil",
                                    "9": "56",
                                    "10": "5",
                                    "11": "14",
                                    "12": "http://felipc.com",
                                    "13": "1725"
                                },
                                {
                                    "0": "3031",
                                    "1": "Developer!",
                                    "2": "NULL",
                                    "3": "2008-08-26 12:46:22.053",
                                    "4": "zaca",
                                    "5": "0",
                                    "6": "NULL",
                                    "7": "2012-10-09 13:20:45.547",
                                    "8": "Brazil",
                                    "9": "524",
                                    "10": "115",
                                    "11": "53",
                                    "12": "http://thebrainfarm.net",
                                    "13": "2204"
                                },
                                {
                                    "0": "3485",
                                    "1": "",
                                    "2": "NULL",
                                    "3": "2008-08-28 18:14:08.583",
                                    "4": "Hoffmann",
                                    "5": "10",
                                    "6": "NULL",
                                    "7": "2018-08-25 23:00:48.793",
                                    "8": "Brazil",
                                    "9": "7071",
                                    "10": "719",
                                    "11": "1145",
                                    "12": "",
                                    "13": "2503"
                                },
                                {
                                    "0": "4213",
                                    "1": "<p>Passionate software developer.</p>\n\n<p>Founder and CTO of ZUQ - Soluções Inteligentes.</p>\n\n<p><a href=\"http://www.zuq.com.br\" rel=\"nofollow\">http://www.zuq.com.br</a></p>\n",
                                    "2": "NULL",
                                    "3": "2008-09-02 11:02:12.420",
                                    "4": "Marcio Aguiar",
                                    "5": "21",
                                    "6": "NULL",
                                    "7": "2018-08-31 15:50:10.790",
                                    "8": "Brazil",
                                    "9": "11193",
                                    "10": "246",
                                    "11": "808",
                                    "12": "",
                                    "13": "2968"
                                },
                                {
                                    "0": "4384",
                                    "1": "NULL",
                                    "2": "NULL",
                                    "3": "2008-09-03 11:45:32.870",
                                    "4": "daniel",
                                    "5": "0",
                                    "6": "NULL",
                                    "7": "2012-06-27 18:45:56.317",
                                    "8": "Brazil",
                                    "9": "1056",
                                    "10": "9",
                                    "11": "101",
                                    "12": "NULL",
                                    "13": "3088"
                                },
                                {
                                    "0": "6378",
                                    "1": "",
                                    "2": "NULL",
                                    "3": "2008-09-15 03:44:56.777",
                                    "4": "Fernando",
                                    "5": "4",
                                    "6": "NULL",
                                    "7": "2015-03-17 20:39:28.013",
                                    "8": "Brazil",
                                    "9": "336",
                                    "10": "43",
                                    "11": "67",
                                    "12": "",
                                    "13": "4286"
                                },
                                {
                                    "0": "6652",
                                    "1": "",
                                    "2": "NULL",
                                    "3": "2008-09-15 12:25:52.483",
                                    "4": "Luis HGO",
                                    "5": "0",
                                    "6": "NULL",
                                    "7": "2016-11-24 16:24:22.947",
                                    "8": "Brazil",
                                    "9": "11",
                                    "10": "0",
                                    "11": "21",
                                    "12": "NULL",
                                    "13": "4432"
                                },
                                {
                                    "0": "7415",
                                    "1": "Not much.",
                                    "2": "NULL",
                                    "3": "2008-09-15 13:42:11.050",
                                    "4": "Salsa",
                                    "5": "0",
                                    "6": "NULL",
                                    "7": "2018-01-31 17:15:23.853",
                                    "8": "Brazil",
                                    "9": "557",
                                    "10": "48",
                                    "11": "83",
                                    "12": "http://none",
                                    "13": "4805"
                                },
                                {
                                    "0": "8041",
                                    "1": "",
                                    "2": "NULL",
                                    "3": "2008-09-15 15:00:15.827",
                                    "4": "Daniel Moura",
                                    "5": "18",
                                    "6": "NULL",
                                    "7": "2018-08-31 18:35:08.067",
                                    "8": "Brazil",
                                    "9": "6007",
                                    "10": "380",
                                    "11": "1071",
                                    "12": "",
                                    "13": "5109"
                                },
                                {
                                    "0": "8276",
                                    "1": "<p>Bookworm, Coffee Connoisseur and Dungeon Crawler Aficionado.</p>\n",
                                    "2": "NULL",
                                    "3": "2008-09-15 15:36:09.170",
                                    "4": "caffo",
                                    "5": "2",
                                    "6": "NULL",
                                    "7": "2014-11-16 20:31:09.480",
                                    "8": "Brazil",
                                    "9": "1183",
                                    "10": "33",
                                    "11": "82",
                                    "12": "http://rodrigofranco.com",
                                    "13": "5210"
                                },
                                {
                                    "0": "8581",
                                    "1": "I´m a Brazilian software developer.",
                                    "2": "NULL",
                                    "3": "2008-09-15 16:23:15.300",
                                    "4": "Roberto Barros",
                                    "5": "3",
                                    "6": "NULL",
                                    "7": "2018-08-21 20:45:57.167",
                                    "8": "Brazil",
                                    "9": "1229",
                                    "10": "832",
                                    "11": "101",
                                    "12": "NULL",
                                    "13": "5356"
                                },
                                {
                                    "0": "8669",
                                    "1": "",
                                    "2": "NULL",
                                    "3": "2008-09-15 16:34:06.817",
                                    "4": "Bruno Gomes",
                                    "5": "0",
                                    "6": "NULL",
                                    "7": "2018-08-31 19:01:01.977",
                                    "8": "Brazil",
                                    "9": "1017",
                                    "10": "47",
                                    "11": "56",
                                    "12": "",
                                    "13": "5395"
                                }
                            ]
                        },
                        "text/html": "<table><tr><th>Id</th><th>AboutMe</th><th>Age</th><th>CreationDate</th><th>DisplayName</th><th>DownVotes</th><th>EmailHash</th><th>LastAccessDate</th><th>Location</th><th>Reputation</th><th>UpVotes</th><th>Views</th><th>WebsiteUrl</th><th>AccountId</th></tr><tr><td>626</td><td>I'm the creator of Sinática and the renowned Sinática Monitor for Firebird.  \r\nBesides computers, I enjoy trying new espressos.</td><td>NULL</td><td>2008-08-07 11:52:05.957</td><td>Douglas Tosi</td><td>3</td><td>NULL</td><td>2018-01-12 16:44:17.287</td><td>Brazil</td><td>1812</td><td>154</td><td>287</td><td>http://www.sinatica.com</td><td>484</td></tr><tr><td>727</td><td>Just a developer wannabe.</td><td>NULL</td><td>2008-08-08 12:16:17.820</td><td>Fabio Gomes</td><td>45</td><td>NULL</td><td>2018-09-01 18:52:56.917</td><td>Brazil</td><td>3666</td><td>596</td><td>800</td><td>http://yacoding.blogspot.com</td><td>561</td></tr><tr><td>802</td><td>&lt;p&gt;Just someone trying to learn something...&lt;/p&gt;\n</td><td>NULL</td><td>2008-08-09 02:50:52.577</td><td>Flávio Amieiro</td><td>7</td><td>NULL</td><td>2018-06-04 09:13:58.670</td><td>Brazil</td><td>14495</td><td>258</td><td>678</td><td>http://flavioamieiro.com</td><td>612</td></tr><tr><td>1100</td><td></td><td>NULL</td><td>2008-08-12 11:58:29.663</td><td>Daniel Silveira</td><td>14</td><td>NULL</td><td>2013-09-14 02:52:14.097</td><td>Brazil</td><td>15929</td><td>295</td><td>1461</td><td>http://enerjy.sys-con.com/author/6412</td><td>839</td></tr><tr><td>1213</td><td></td><td>NULL</td><td>2008-08-13 13:18:30.890</td><td>André Casteliano</td><td>1</td><td>NULL</td><td>2018-08-29 17:37:35.787</td><td>Brazil</td><td>431</td><td>131</td><td>76</td><td>NULL</td><td>922</td></tr><tr><td>2015</td><td>&lt;p&gt;Product Manager and Developer at a financial technology provider.&lt;/p&gt;\n\n&lt;p&gt;Living and working in Rio de Janeiro, Brazil&lt;/p&gt;\n</td><td>NULL</td><td>2008-08-19 19:42:43.420</td><td>Gustavo</td><td>12</td><td>NULL</td><td>2018-08-21 13:45:51.207</td><td>Brazil</td><td>601</td><td>576</td><td>235</td><td></td><td>1509</td></tr><tr><td>2267</td><td></td><td>NULL</td><td>2008-08-21 12:23:14.943</td><td>João Vieira</td><td>0</td><td>NULL</td><td>2018-09-01 13:26:59.693</td><td>Brazil</td><td>931</td><td>197</td><td>102</td><td>http://www.sia.net.br</td><td>1679</td></tr><tr><td>2274</td><td>NULL</td><td>NULL</td><td>2008-08-21 12:44:42.223</td><td>Fernando Barrocal</td><td>71</td><td>NULL</td><td>2018-08-31 14:46:27.387</td><td>Brazil</td><td>6284</td><td>107</td><td>529</td><td>http://fernando.barrocal.com/</td><td>1685</td></tr><tr><td>2333</td><td></td><td>NULL</td><td>2008-08-21 16:56:11.823</td><td>Felipe</td><td>0</td><td>NULL</td><td>2008-09-28 07:38:25.930</td><td>Brazil</td><td>56</td><td>5</td><td>14</td><td>http://felipc.com</td><td>1725</td></tr><tr><td>3031</td><td>Developer!</td><td>NULL</td><td>2008-08-26 12:46:22.053</td><td>zaca</td><td>0</td><td>NULL</td><td>2012-10-09 13:20:45.547</td><td>Brazil</td><td>524</td><td>115</td><td>53</td><td>http://thebrainfarm.net</td><td>2204</td></tr><tr><td>3485</td><td></td><td>NULL</td><td>2008-08-28 18:14:08.583</td><td>Hoffmann</td><td>10</td><td>NULL</td><td>2018-08-25 23:00:48.793</td><td>Brazil</td><td>7071</td><td>719</td><td>1145</td><td></td><td>2503</td></tr><tr><td>4213</td><td>&lt;p&gt;Passionate software developer.&lt;/p&gt;\n\n&lt;p&gt;Founder and CTO of ZUQ - Soluções Inteligentes.&lt;/p&gt;\n\n&lt;p&gt;&lt;a href=&quot;http://www.zuq.com.br&quot; rel=&quot;nofollow&quot;&gt;http://www.zuq.com.br&lt;/a&gt;&lt;/p&gt;\n</td><td>NULL</td><td>2008-09-02 11:02:12.420</td><td>Marcio Aguiar</td><td>21</td><td>NULL</td><td>2018-08-31 15:50:10.790</td><td>Brazil</td><td>11193</td><td>246</td><td>808</td><td></td><td>2968</td></tr><tr><td>4384</td><td>NULL</td><td>NULL</td><td>2008-09-03 11:45:32.870</td><td>daniel</td><td>0</td><td>NULL</td><td>2012-06-27 18:45:56.317</td><td>Brazil</td><td>1056</td><td>9</td><td>101</td><td>NULL</td><td>3088</td></tr><tr><td>6378</td><td></td><td>NULL</td><td>2008-09-15 03:44:56.777</td><td>Fernando</td><td>4</td><td>NULL</td><td>2015-03-17 20:39:28.013</td><td>Brazil</td><td>336</td><td>43</td><td>67</td><td></td><td>4286</td></tr><tr><td>6652</td><td></td><td>NULL</td><td>2008-09-15 12:25:52.483</td><td>Luis HGO</td><td>0</td><td>NULL</td><td>2016-11-24 16:24:22.947</td><td>Brazil</td><td>11</td><td>0</td><td>21</td><td>NULL</td><td>4432</td></tr><tr><td>7415</td><td>Not much.</td><td>NULL</td><td>2008-09-15 13:42:11.050</td><td>Salsa</td><td>0</td><td>NULL</td><td>2018-01-31 17:15:23.853</td><td>Brazil</td><td>557</td><td>48</td><td>83</td><td>http://none</td><td>4805</td></tr><tr><td>8041</td><td></td><td>NULL</td><td>2008-09-15 15:00:15.827</td><td>Daniel Moura</td><td>18</td><td>NULL</td><td>2018-08-31 18:35:08.067</td><td>Brazil</td><td>6007</td><td>380</td><td>1071</td><td></td><td>5109</td></tr><tr><td>8276</td><td>&lt;p&gt;Bookworm, Coffee Connoisseur and Dungeon Crawler Aficionado.&lt;/p&gt;\n</td><td>NULL</td><td>2008-09-15 15:36:09.170</td><td>caffo</td><td>2</td><td>NULL</td><td>2014-11-16 20:31:09.480</td><td>Brazil</td><td>1183</td><td>33</td><td>82</td><td>http://rodrigofranco.com</td><td>5210</td></tr><tr><td>8581</td><td>I´m a Brazilian software developer.</td><td>NULL</td><td>2008-09-15 16:23:15.300</td><td>Roberto Barros</td><td>3</td><td>NULL</td><td>2018-08-21 20:45:57.167</td><td>Brazil</td><td>1229</td><td>832</td><td>101</td><td>NULL</td><td>5356</td></tr><tr><td>8669</td><td></td><td>NULL</td><td>2008-09-15 16:34:06.817</td><td>Bruno Gomes</td><td>0</td><td>NULL</td><td>2018-08-31 19:01:01.977</td><td>Brazil</td><td>1017</td><td>47</td><td>56</td><td></td><td>5395</td></tr></table>"
                    },
                    "metadata": {}
                }
            ],
            "execution_count": 18
        },
        {
            "cell_type": "markdown",
            "source": "Many of them have reputations over 1,000 points, so those folks are all going to be set to famous, right? Let's see what happens when we run the update:",
            "metadata": {}
        },
        {
            "cell_type": "code",
            "source": "UPDATE dbo.Users\n  SET Reputation = Reputation + 1\n  WHERE Location = 'Brazil';",
            "metadata": {},
            "outputs": [
                {
                    "output_type": "display_data",
                    "data": {
                        "text/html": "(4250 rows affected)"
                    },
                    "metadata": {}
                },
                {
                    "output_type": "display_data",
                    "data": {
                        "text/html": "Total execution time: 00:00:00.4284660"
                    },
                    "metadata": {}
                }
            ],
            "execution_count": 19
        },
        {
            "cell_type": "markdown",
            "source": "And then check to see their new famous AboutMe:",
            "metadata": {}
        },
        {
            "cell_type": "code",
            "source": "SELECT TOP 20 *\n  FROM dbo.Users\n  WHERE Location = 'Brazil';",
            "metadata": {},
            "outputs": [
                {
                    "output_type": "display_data",
                    "data": {
                        "text/html": "(20 rows affected)"
                    },
                    "metadata": {}
                },
                {
                    "output_type": "display_data",
                    "data": {
                        "text/html": "Total execution time: 00:00:00.0052030"
                    },
                    "metadata": {}
                },
                {
                    "output_type": "execute_result",
                    "execution_count": 20,
                    "data": {
                        "application/vnd.dataresource+json": {
                            "schema": {
                                "fields": [
                                    {
                                        "name": "Id"
                                    },
                                    {
                                        "name": "AboutMe"
                                    },
                                    {
                                        "name": "Age"
                                    },
                                    {
                                        "name": "CreationDate"
                                    },
                                    {
                                        "name": "DisplayName"
                                    },
                                    {
                                        "name": "DownVotes"
                                    },
                                    {
                                        "name": "EmailHash"
                                    },
                                    {
                                        "name": "LastAccessDate"
                                    },
                                    {
                                        "name": "Location"
                                    },
                                    {
                                        "name": "Reputation"
                                    },
                                    {
                                        "name": "UpVotes"
                                    },
                                    {
                                        "name": "Views"
                                    },
                                    {
                                        "name": "WebsiteUrl"
                                    },
                                    {
                                        "name": "AccountId"
                                    }
                                ]
                            },
                            "data": [
                                {
                                    "0": "626",
                                    "1": "I'm the creator of Sinática and the renowned Sinática Monitor for Firebird.  \r\nBesides computers, I enjoy trying new espressos.",
                                    "2": "NULL",
                                    "3": "2008-08-07 11:52:05.957",
                                    "4": "Douglas Tosi",
                                    "5": "3",
                                    "6": "NULL",
                                    "7": "2018-01-12 16:44:17.287",
                                    "8": "Brazil",
                                    "9": "1813",
                                    "10": "154",
                                    "11": "287",
                                    "12": "http://www.sinatica.com",
                                    "13": "484"
                                },
                                {
                                    "0": "727",
                                    "1": "Just a developer wannabe.",
                                    "2": "NULL",
                                    "3": "2008-08-08 12:16:17.820",
                                    "4": "Fabio Gomes",
                                    "5": "45",
                                    "6": "NULL",
                                    "7": "2018-09-01 18:52:56.917",
                                    "8": "Brazil",
                                    "9": "3667",
                                    "10": "596",
                                    "11": "800",
                                    "12": "http://yacoding.blogspot.com",
                                    "13": "561"
                                },
                                {
                                    "0": "802",
                                    "1": "<p>Just someone trying to learn something...</p>\n",
                                    "2": "NULL",
                                    "3": "2008-08-09 02:50:52.577",
                                    "4": "Flávio Amieiro",
                                    "5": "7",
                                    "6": "NULL",
                                    "7": "2018-06-04 09:13:58.670",
                                    "8": "Brazil",
                                    "9": "14496",
                                    "10": "258",
                                    "11": "678",
                                    "12": "http://flavioamieiro.com",
                                    "13": "612"
                                },
                                {
                                    "0": "1100",
                                    "1": "",
                                    "2": "NULL",
                                    "3": "2008-08-12 11:58:29.663",
                                    "4": "Daniel Silveira",
                                    "5": "14",
                                    "6": "NULL",
                                    "7": "2013-09-14 02:52:14.097",
                                    "8": "Brazil",
                                    "9": "15930",
                                    "10": "295",
                                    "11": "1461",
                                    "12": "http://enerjy.sys-con.com/author/6412",
                                    "13": "839"
                                },
                                {
                                    "0": "1213",
                                    "1": "",
                                    "2": "NULL",
                                    "3": "2008-08-13 13:18:30.890",
                                    "4": "André Casteliano",
                                    "5": "1",
                                    "6": "NULL",
                                    "7": "2018-08-29 17:37:35.787",
                                    "8": "Brazil",
                                    "9": "432",
                                    "10": "131",
                                    "11": "76",
                                    "12": "NULL",
                                    "13": "922"
                                },
                                {
                                    "0": "2015",
                                    "1": "<p>Product Manager and Developer at a financial technology provider.</p>\n\n<p>Living and working in Rio de Janeiro, Brazil</p>\n",
                                    "2": "NULL",
                                    "3": "2008-08-19 19:42:43.420",
                                    "4": "Gustavo",
                                    "5": "12",
                                    "6": "NULL",
                                    "7": "2018-08-21 13:45:51.207",
                                    "8": "Brazil",
                                    "9": "602",
                                    "10": "576",
                                    "11": "235",
                                    "12": "",
                                    "13": "1509"
                                },
                                {
                                    "0": "2267",
                                    "1": "",
                                    "2": "NULL",
                                    "3": "2008-08-21 12:23:14.943",
                                    "4": "João Vieira",
                                    "5": "0",
                                    "6": "NULL",
                                    "7": "2018-09-01 13:26:59.693",
                                    "8": "Brazil",
                                    "9": "932",
                                    "10": "197",
                                    "11": "102",
                                    "12": "http://www.sia.net.br",
                                    "13": "1679"
                                },
                                {
                                    "0": "2274",
                                    "1": "NULL",
                                    "2": "NULL",
                                    "3": "2008-08-21 12:44:42.223",
                                    "4": "Fernando Barrocal",
                                    "5": "71",
                                    "6": "NULL",
                                    "7": "2018-08-31 14:46:27.387",
                                    "8": "Brazil",
                                    "9": "6285",
                                    "10": "107",
                                    "11": "529",
                                    "12": "http://fernando.barrocal.com/",
                                    "13": "1685"
                                },
                                {
                                    "0": "2333",
                                    "1": "",
                                    "2": "NULL",
                                    "3": "2008-08-21 16:56:11.823",
                                    "4": "Felipe",
                                    "5": "0",
                                    "6": "NULL",
                                    "7": "2008-09-28 07:38:25.930",
                                    "8": "Brazil",
                                    "9": "57",
                                    "10": "5",
                                    "11": "14",
                                    "12": "http://felipc.com",
                                    "13": "1725"
                                },
                                {
                                    "0": "3031",
                                    "1": "Developer!",
                                    "2": "NULL",
                                    "3": "2008-08-26 12:46:22.053",
                                    "4": "zaca",
                                    "5": "0",
                                    "6": "NULL",
                                    "7": "2012-10-09 13:20:45.547",
                                    "8": "Brazil",
                                    "9": "525",
                                    "10": "115",
                                    "11": "53",
                                    "12": "http://thebrainfarm.net",
                                    "13": "2204"
                                },
                                {
                                    "0": "3485",
                                    "1": "",
                                    "2": "NULL",
                                    "3": "2008-08-28 18:14:08.583",
                                    "4": "Hoffmann",
                                    "5": "10",
                                    "6": "NULL",
                                    "7": "2018-08-25 23:00:48.793",
                                    "8": "Brazil",
                                    "9": "7072",
                                    "10": "719",
                                    "11": "1145",
                                    "12": "",
                                    "13": "2503"
                                },
                                {
                                    "0": "4213",
                                    "1": "<p>Passionate software developer.</p>\n\n<p>Founder and CTO of ZUQ - Soluções Inteligentes.</p>\n\n<p><a href=\"http://www.zuq.com.br\" rel=\"nofollow\">http://www.zuq.com.br</a></p>\n",
                                    "2": "NULL",
                                    "3": "2008-09-02 11:02:12.420",
                                    "4": "Marcio Aguiar",
                                    "5": "21",
                                    "6": "NULL",
                                    "7": "2018-08-31 15:50:10.790",
                                    "8": "Brazil",
                                    "9": "11194",
                                    "10": "246",
                                    "11": "808",
                                    "12": "",
                                    "13": "2968"
                                },
                                {
                                    "0": "4384",
                                    "1": "NULL",
                                    "2": "NULL",
                                    "3": "2008-09-03 11:45:32.870",
                                    "4": "daniel",
                                    "5": "0",
                                    "6": "NULL",
                                    "7": "2012-06-27 18:45:56.317",
                                    "8": "Brazil",
                                    "9": "1057",
                                    "10": "9",
                                    "11": "101",
                                    "12": "NULL",
                                    "13": "3088"
                                },
                                {
                                    "0": "6378",
                                    "1": "",
                                    "2": "NULL",
                                    "3": "2008-09-15 03:44:56.777",
                                    "4": "Fernando",
                                    "5": "4",
                                    "6": "NULL",
                                    "7": "2015-03-17 20:39:28.013",
                                    "8": "Brazil",
                                    "9": "337",
                                    "10": "43",
                                    "11": "67",
                                    "12": "",
                                    "13": "4286"
                                },
                                {
                                    "0": "6652",
                                    "1": "",
                                    "2": "NULL",
                                    "3": "2008-09-15 12:25:52.483",
                                    "4": "Luis HGO",
                                    "5": "0",
                                    "6": "NULL",
                                    "7": "2016-11-24 16:24:22.947",
                                    "8": "Brazil",
                                    "9": "12",
                                    "10": "0",
                                    "11": "21",
                                    "12": "NULL",
                                    "13": "4432"
                                },
                                {
                                    "0": "7415",
                                    "1": "Not much.",
                                    "2": "NULL",
                                    "3": "2008-09-15 13:42:11.050",
                                    "4": "Salsa",
                                    "5": "0",
                                    "6": "NULL",
                                    "7": "2018-01-31 17:15:23.853",
                                    "8": "Brazil",
                                    "9": "558",
                                    "10": "48",
                                    "11": "83",
                                    "12": "http://none",
                                    "13": "4805"
                                },
                                {
                                    "0": "8041",
                                    "1": "",
                                    "2": "NULL",
                                    "3": "2008-09-15 15:00:15.827",
                                    "4": "Daniel Moura",
                                    "5": "18",
                                    "6": "NULL",
                                    "7": "2018-08-31 18:35:08.067",
                                    "8": "Brazil",
                                    "9": "6008",
                                    "10": "380",
                                    "11": "1071",
                                    "12": "",
                                    "13": "5109"
                                },
                                {
                                    "0": "8276",
                                    "1": "<p>Bookworm, Coffee Connoisseur and Dungeon Crawler Aficionado.</p>\n",
                                    "2": "NULL",
                                    "3": "2008-09-15 15:36:09.170",
                                    "4": "caffo",
                                    "5": "2",
                                    "6": "NULL",
                                    "7": "2014-11-16 20:31:09.480",
                                    "8": "Brazil",
                                    "9": "1184",
                                    "10": "33",
                                    "11": "82",
                                    "12": "http://rodrigofranco.com",
                                    "13": "5210"
                                },
                                {
                                    "0": "8581",
                                    "1": "I´m a Brazilian software developer.",
                                    "2": "NULL",
                                    "3": "2008-09-15 16:23:15.300",
                                    "4": "Roberto Barros",
                                    "5": "3",
                                    "6": "NULL",
                                    "7": "2018-08-21 20:45:57.167",
                                    "8": "Brazil",
                                    "9": "1230",
                                    "10": "832",
                                    "11": "101",
                                    "12": "NULL",
                                    "13": "5356"
                                },
                                {
                                    "0": "8669",
                                    "1": "",
                                    "2": "NULL",
                                    "3": "2008-09-15 16:34:06.817",
                                    "4": "Bruno Gomes",
                                    "5": "0",
                                    "6": "NULL",
                                    "7": "2018-08-31 19:01:01.977",
                                    "8": "Brazil",
                                    "9": "1018",
                                    "10": "47",
                                    "11": "56",
                                    "12": "",
                                    "13": "5395"
                                }
                            ]
                        },
                        "text/html": "<table><tr><th>Id</th><th>AboutMe</th><th>Age</th><th>CreationDate</th><th>DisplayName</th><th>DownVotes</th><th>EmailHash</th><th>LastAccessDate</th><th>Location</th><th>Reputation</th><th>UpVotes</th><th>Views</th><th>WebsiteUrl</th><th>AccountId</th></tr><tr><td>626</td><td>I'm the creator of Sinática and the renowned Sinática Monitor for Firebird.  \r\nBesides computers, I enjoy trying new espressos.</td><td>NULL</td><td>2008-08-07 11:52:05.957</td><td>Douglas Tosi</td><td>3</td><td>NULL</td><td>2018-01-12 16:44:17.287</td><td>Brazil</td><td>1813</td><td>154</td><td>287</td><td>http://www.sinatica.com</td><td>484</td></tr><tr><td>727</td><td>Just a developer wannabe.</td><td>NULL</td><td>2008-08-08 12:16:17.820</td><td>Fabio Gomes</td><td>45</td><td>NULL</td><td>2018-09-01 18:52:56.917</td><td>Brazil</td><td>3667</td><td>596</td><td>800</td><td>http://yacoding.blogspot.com</td><td>561</td></tr><tr><td>802</td><td>&lt;p&gt;Just someone trying to learn something...&lt;/p&gt;\n</td><td>NULL</td><td>2008-08-09 02:50:52.577</td><td>Flávio Amieiro</td><td>7</td><td>NULL</td><td>2018-06-04 09:13:58.670</td><td>Brazil</td><td>14496</td><td>258</td><td>678</td><td>http://flavioamieiro.com</td><td>612</td></tr><tr><td>1100</td><td></td><td>NULL</td><td>2008-08-12 11:58:29.663</td><td>Daniel Silveira</td><td>14</td><td>NULL</td><td>2013-09-14 02:52:14.097</td><td>Brazil</td><td>15930</td><td>295</td><td>1461</td><td>http://enerjy.sys-con.com/author/6412</td><td>839</td></tr><tr><td>1213</td><td></td><td>NULL</td><td>2008-08-13 13:18:30.890</td><td>André Casteliano</td><td>1</td><td>NULL</td><td>2018-08-29 17:37:35.787</td><td>Brazil</td><td>432</td><td>131</td><td>76</td><td>NULL</td><td>922</td></tr><tr><td>2015</td><td>&lt;p&gt;Product Manager and Developer at a financial technology provider.&lt;/p&gt;\n\n&lt;p&gt;Living and working in Rio de Janeiro, Brazil&lt;/p&gt;\n</td><td>NULL</td><td>2008-08-19 19:42:43.420</td><td>Gustavo</td><td>12</td><td>NULL</td><td>2018-08-21 13:45:51.207</td><td>Brazil</td><td>602</td><td>576</td><td>235</td><td></td><td>1509</td></tr><tr><td>2267</td><td></td><td>NULL</td><td>2008-08-21 12:23:14.943</td><td>João Vieira</td><td>0</td><td>NULL</td><td>2018-09-01 13:26:59.693</td><td>Brazil</td><td>932</td><td>197</td><td>102</td><td>http://www.sia.net.br</td><td>1679</td></tr><tr><td>2274</td><td>NULL</td><td>NULL</td><td>2008-08-21 12:44:42.223</td><td>Fernando Barrocal</td><td>71</td><td>NULL</td><td>2018-08-31 14:46:27.387</td><td>Brazil</td><td>6285</td><td>107</td><td>529</td><td>http://fernando.barrocal.com/</td><td>1685</td></tr><tr><td>2333</td><td></td><td>NULL</td><td>2008-08-21 16:56:11.823</td><td>Felipe</td><td>0</td><td>NULL</td><td>2008-09-28 07:38:25.930</td><td>Brazil</td><td>57</td><td>5</td><td>14</td><td>http://felipc.com</td><td>1725</td></tr><tr><td>3031</td><td>Developer!</td><td>NULL</td><td>2008-08-26 12:46:22.053</td><td>zaca</td><td>0</td><td>NULL</td><td>2012-10-09 13:20:45.547</td><td>Brazil</td><td>525</td><td>115</td><td>53</td><td>http://thebrainfarm.net</td><td>2204</td></tr><tr><td>3485</td><td></td><td>NULL</td><td>2008-08-28 18:14:08.583</td><td>Hoffmann</td><td>10</td><td>NULL</td><td>2018-08-25 23:00:48.793</td><td>Brazil</td><td>7072</td><td>719</td><td>1145</td><td></td><td>2503</td></tr><tr><td>4213</td><td>&lt;p&gt;Passionate software developer.&lt;/p&gt;\n\n&lt;p&gt;Founder and CTO of ZUQ - Soluções Inteligentes.&lt;/p&gt;\n\n&lt;p&gt;&lt;a href=&quot;http://www.zuq.com.br&quot; rel=&quot;nofollow&quot;&gt;http://www.zuq.com.br&lt;/a&gt;&lt;/p&gt;\n</td><td>NULL</td><td>2008-09-02 11:02:12.420</td><td>Marcio Aguiar</td><td>21</td><td>NULL</td><td>2018-08-31 15:50:10.790</td><td>Brazil</td><td>11194</td><td>246</td><td>808</td><td></td><td>2968</td></tr><tr><td>4384</td><td>NULL</td><td>NULL</td><td>2008-09-03 11:45:32.870</td><td>daniel</td><td>0</td><td>NULL</td><td>2012-06-27 18:45:56.317</td><td>Brazil</td><td>1057</td><td>9</td><td>101</td><td>NULL</td><td>3088</td></tr><tr><td>6378</td><td></td><td>NULL</td><td>2008-09-15 03:44:56.777</td><td>Fernando</td><td>4</td><td>NULL</td><td>2015-03-17 20:39:28.013</td><td>Brazil</td><td>337</td><td>43</td><td>67</td><td></td><td>4286</td></tr><tr><td>6652</td><td></td><td>NULL</td><td>2008-09-15 12:25:52.483</td><td>Luis HGO</td><td>0</td><td>NULL</td><td>2016-11-24 16:24:22.947</td><td>Brazil</td><td>12</td><td>0</td><td>21</td><td>NULL</td><td>4432</td></tr><tr><td>7415</td><td>Not much.</td><td>NULL</td><td>2008-09-15 13:42:11.050</td><td>Salsa</td><td>0</td><td>NULL</td><td>2018-01-31 17:15:23.853</td><td>Brazil</td><td>558</td><td>48</td><td>83</td><td>http://none</td><td>4805</td></tr><tr><td>8041</td><td></td><td>NULL</td><td>2008-09-15 15:00:15.827</td><td>Daniel Moura</td><td>18</td><td>NULL</td><td>2018-08-31 18:35:08.067</td><td>Brazil</td><td>6008</td><td>380</td><td>1071</td><td></td><td>5109</td></tr><tr><td>8276</td><td>&lt;p&gt;Bookworm, Coffee Connoisseur and Dungeon Crawler Aficionado.&lt;/p&gt;\n</td><td>NULL</td><td>2008-09-15 15:36:09.170</td><td>caffo</td><td>2</td><td>NULL</td><td>2014-11-16 20:31:09.480</td><td>Brazil</td><td>1184</td><td>33</td><td>82</td><td>http://rodrigofranco.com</td><td>5210</td></tr><tr><td>8581</td><td>I´m a Brazilian software developer.</td><td>NULL</td><td>2008-09-15 16:23:15.300</td><td>Roberto Barros</td><td>3</td><td>NULL</td><td>2018-08-21 20:45:57.167</td><td>Brazil</td><td>1230</td><td>832</td><td>101</td><td>NULL</td><td>5356</td></tr><tr><td>8669</td><td></td><td>NULL</td><td>2008-09-15 16:34:06.817</td><td>Bruno Gomes</td><td>0</td><td>NULL</td><td>2018-08-31 19:01:01.977</td><td>Brazil</td><td>1018</td><td>47</td><td>56</td><td></td><td>5395</td></tr></table>"
                    },
                    "metadata": {}
                }
            ],
            "execution_count": 20
        },
        {
            "cell_type": "markdown",
            "source": "Wait...something went wrong. There are users with a reputation over 1,000, but don't have \"FAMOUS\" in their AboutMe. A bunch of 'em simply got ignored.\n\n# That's the bug.\n\nWhen you declare variables and set them using one row from the DELETED virtual table, you have no idea which row you're going to get. Even worse, sometimes this trigger will update one row, and sometimes it won't - because it might happen to grab a row with a reputation under 1,000!\n\nHere's a better way to write that trigger:\n\n",
            "metadata": {}
        },
        {
            "cell_type": "code",
            "source": "CREATE OR ALTER TRIGGER trUserIsFamous ON dbo.Users\nAFTER UPDATE\nAS\nBEGIN\n   UPDATE dbo.Users\n   SET AboutMe = 'FAMOUS FOR A HIGH REPUTATION!'\n   FROM dbo.Users u\n   INNER JOIN INSERTED i ON u.Id = i.Id \n   WHERE i.Reputation > 1000;\nEND\nGO",
            "metadata": {},
            "outputs": [
                {
                    "output_type": "display_data",
                    "data": {
                        "text/html": "Commands completed successfully."
                    },
                    "metadata": {}
                },
                {
                    "output_type": "display_data",
                    "data": {
                        "text/html": "Total execution time: 00:00:00.0036070"
                    },
                    "metadata": {}
                }
            ],
            "execution_count": 21
        },
        {
            "cell_type": "markdown",
            "source": "In that version, we're simply joining with the INSERTED table, thereby ensuring that we get all of the updated rows. We operate on 'em all at once, too - think set-based, not a cursor.\n\nThen, when we update multiple rows at once:",
            "metadata": {}
        },
        {
            "cell_type": "code",
            "source": "UPDATE dbo.Users\n  SET Reputation = Reputation + 1\n  WHERE Location = 'Brazil';",
            "metadata": {},
            "outputs": [
                {
                    "output_type": "display_data",
                    "data": {
                        "text/html": "(380 rows affected)"
                    },
                    "metadata": {}
                },
                {
                    "output_type": "display_data",
                    "data": {
                        "text/html": "(4250 rows affected)"
                    },
                    "metadata": {}
                },
                {
                    "output_type": "display_data",
                    "data": {
                        "text/html": "Total execution time: 00:00:00.1190870"
                    },
                    "metadata": {}
                }
            ],
            "execution_count": 22
        },
        {
            "cell_type": "markdown",
            "source": "The right ones are affected:",
            "metadata": {}
        },
        {
            "cell_type": "code",
            "source": "SELECT TOP 20 *\n  FROM dbo.Users\n  WHERE Location = 'Brazil';",
            "metadata": {},
            "outputs": [
                {
                    "output_type": "display_data",
                    "data": {
                        "text/html": "(20 rows affected)"
                    },
                    "metadata": {}
                },
                {
                    "output_type": "display_data",
                    "data": {
                        "text/html": "Total execution time: 00:00:00.0071990"
                    },
                    "metadata": {}
                },
                {
                    "output_type": "execute_result",
                    "execution_count": 23,
                    "data": {
                        "application/vnd.dataresource+json": {
                            "schema": {
                                "fields": [
                                    {
                                        "name": "Id"
                                    },
                                    {
                                        "name": "AboutMe"
                                    },
                                    {
                                        "name": "Age"
                                    },
                                    {
                                        "name": "CreationDate"
                                    },
                                    {
                                        "name": "DisplayName"
                                    },
                                    {
                                        "name": "DownVotes"
                                    },
                                    {
                                        "name": "EmailHash"
                                    },
                                    {
                                        "name": "LastAccessDate"
                                    },
                                    {
                                        "name": "Location"
                                    },
                                    {
                                        "name": "Reputation"
                                    },
                                    {
                                        "name": "UpVotes"
                                    },
                                    {
                                        "name": "Views"
                                    },
                                    {
                                        "name": "WebsiteUrl"
                                    },
                                    {
                                        "name": "AccountId"
                                    }
                                ]
                            },
                            "data": [
                                {
                                    "0": "626",
                                    "1": "FAMOUS FOR A HIGH REPUTATION!",
                                    "2": "NULL",
                                    "3": "2008-08-07 11:52:05.957",
                                    "4": "Douglas Tosi",
                                    "5": "3",
                                    "6": "NULL",
                                    "7": "2018-01-12 16:44:17.287",
                                    "8": "Brazil",
                                    "9": "1814",
                                    "10": "154",
                                    "11": "287",
                                    "12": "http://www.sinatica.com",
                                    "13": "484"
                                },
                                {
                                    "0": "727",
                                    "1": "FAMOUS FOR A HIGH REPUTATION!",
                                    "2": "NULL",
                                    "3": "2008-08-08 12:16:17.820",
                                    "4": "Fabio Gomes",
                                    "5": "45",
                                    "6": "NULL",
                                    "7": "2018-09-01 18:52:56.917",
                                    "8": "Brazil",
                                    "9": "3668",
                                    "10": "596",
                                    "11": "800",
                                    "12": "http://yacoding.blogspot.com",
                                    "13": "561"
                                },
                                {
                                    "0": "802",
                                    "1": "FAMOUS FOR A HIGH REPUTATION!",
                                    "2": "NULL",
                                    "3": "2008-08-09 02:50:52.577",
                                    "4": "Flávio Amieiro",
                                    "5": "7",
                                    "6": "NULL",
                                    "7": "2018-06-04 09:13:58.670",
                                    "8": "Brazil",
                                    "9": "14497",
                                    "10": "258",
                                    "11": "678",
                                    "12": "http://flavioamieiro.com",
                                    "13": "612"
                                },
                                {
                                    "0": "1100",
                                    "1": "FAMOUS FOR A HIGH REPUTATION!",
                                    "2": "NULL",
                                    "3": "2008-08-12 11:58:29.663",
                                    "4": "Daniel Silveira",
                                    "5": "14",
                                    "6": "NULL",
                                    "7": "2013-09-14 02:52:14.097",
                                    "8": "Brazil",
                                    "9": "15931",
                                    "10": "295",
                                    "11": "1461",
                                    "12": "http://enerjy.sys-con.com/author/6412",
                                    "13": "839"
                                },
                                {
                                    "0": "1213",
                                    "1": "",
                                    "2": "NULL",
                                    "3": "2008-08-13 13:18:30.890",
                                    "4": "André Casteliano",
                                    "5": "1",
                                    "6": "NULL",
                                    "7": "2018-08-29 17:37:35.787",
                                    "8": "Brazil",
                                    "9": "433",
                                    "10": "131",
                                    "11": "76",
                                    "12": "NULL",
                                    "13": "922"
                                },
                                {
                                    "0": "2015",
                                    "1": "<p>Product Manager and Developer at a financial technology provider.</p>\n\n<p>Living and working in Rio de Janeiro, Brazil</p>\n",
                                    "2": "NULL",
                                    "3": "2008-08-19 19:42:43.420",
                                    "4": "Gustavo",
                                    "5": "12",
                                    "6": "NULL",
                                    "7": "2018-08-21 13:45:51.207",
                                    "8": "Brazil",
                                    "9": "603",
                                    "10": "576",
                                    "11": "235",
                                    "12": "",
                                    "13": "1509"
                                },
                                {
                                    "0": "2267",
                                    "1": "",
                                    "2": "NULL",
                                    "3": "2008-08-21 12:23:14.943",
                                    "4": "João Vieira",
                                    "5": "0",
                                    "6": "NULL",
                                    "7": "2018-09-01 13:26:59.693",
                                    "8": "Brazil",
                                    "9": "933",
                                    "10": "197",
                                    "11": "102",
                                    "12": "http://www.sia.net.br",
                                    "13": "1679"
                                },
                                {
                                    "0": "2274",
                                    "1": "FAMOUS FOR A HIGH REPUTATION!",
                                    "2": "NULL",
                                    "3": "2008-08-21 12:44:42.223",
                                    "4": "Fernando Barrocal",
                                    "5": "71",
                                    "6": "NULL",
                                    "7": "2018-08-31 14:46:27.387",
                                    "8": "Brazil",
                                    "9": "6286",
                                    "10": "107",
                                    "11": "529",
                                    "12": "http://fernando.barrocal.com/",
                                    "13": "1685"
                                },
                                {
                                    "0": "2333",
                                    "1": "",
                                    "2": "NULL",
                                    "3": "2008-08-21 16:56:11.823",
                                    "4": "Felipe",
                                    "5": "0",
                                    "6": "NULL",
                                    "7": "2008-09-28 07:38:25.930",
                                    "8": "Brazil",
                                    "9": "58",
                                    "10": "5",
                                    "11": "14",
                                    "12": "http://felipc.com",
                                    "13": "1725"
                                },
                                {
                                    "0": "3031",
                                    "1": "Developer!",
                                    "2": "NULL",
                                    "3": "2008-08-26 12:46:22.053",
                                    "4": "zaca",
                                    "5": "0",
                                    "6": "NULL",
                                    "7": "2012-10-09 13:20:45.547",
                                    "8": "Brazil",
                                    "9": "526",
                                    "10": "115",
                                    "11": "53",
                                    "12": "http://thebrainfarm.net",
                                    "13": "2204"
                                },
                                {
                                    "0": "3485",
                                    "1": "FAMOUS FOR A HIGH REPUTATION!",
                                    "2": "NULL",
                                    "3": "2008-08-28 18:14:08.583",
                                    "4": "Hoffmann",
                                    "5": "10",
                                    "6": "NULL",
                                    "7": "2018-08-25 23:00:48.793",
                                    "8": "Brazil",
                                    "9": "7073",
                                    "10": "719",
                                    "11": "1145",
                                    "12": "",
                                    "13": "2503"
                                },
                                {
                                    "0": "4213",
                                    "1": "FAMOUS FOR A HIGH REPUTATION!",
                                    "2": "NULL",
                                    "3": "2008-09-02 11:02:12.420",
                                    "4": "Marcio Aguiar",
                                    "5": "21",
                                    "6": "NULL",
                                    "7": "2018-08-31 15:50:10.790",
                                    "8": "Brazil",
                                    "9": "11195",
                                    "10": "246",
                                    "11": "808",
                                    "12": "",
                                    "13": "2968"
                                },
                                {
                                    "0": "4384",
                                    "1": "FAMOUS FOR A HIGH REPUTATION!",
                                    "2": "NULL",
                                    "3": "2008-09-03 11:45:32.870",
                                    "4": "daniel",
                                    "5": "0",
                                    "6": "NULL",
                                    "7": "2012-06-27 18:45:56.317",
                                    "8": "Brazil",
                                    "9": "1058",
                                    "10": "9",
                                    "11": "101",
                                    "12": "NULL",
                                    "13": "3088"
                                },
                                {
                                    "0": "6378",
                                    "1": "",
                                    "2": "NULL",
                                    "3": "2008-09-15 03:44:56.777",
                                    "4": "Fernando",
                                    "5": "4",
                                    "6": "NULL",
                                    "7": "2015-03-17 20:39:28.013",
                                    "8": "Brazil",
                                    "9": "338",
                                    "10": "43",
                                    "11": "67",
                                    "12": "",
                                    "13": "4286"
                                },
                                {
                                    "0": "6652",
                                    "1": "",
                                    "2": "NULL",
                                    "3": "2008-09-15 12:25:52.483",
                                    "4": "Luis HGO",
                                    "5": "0",
                                    "6": "NULL",
                                    "7": "2016-11-24 16:24:22.947",
                                    "8": "Brazil",
                                    "9": "13",
                                    "10": "0",
                                    "11": "21",
                                    "12": "NULL",
                                    "13": "4432"
                                },
                                {
                                    "0": "7415",
                                    "1": "Not much.",
                                    "2": "NULL",
                                    "3": "2008-09-15 13:42:11.050",
                                    "4": "Salsa",
                                    "5": "0",
                                    "6": "NULL",
                                    "7": "2018-01-31 17:15:23.853",
                                    "8": "Brazil",
                                    "9": "559",
                                    "10": "48",
                                    "11": "83",
                                    "12": "http://none",
                                    "13": "4805"
                                },
                                {
                                    "0": "8041",
                                    "1": "FAMOUS FOR A HIGH REPUTATION!",
                                    "2": "NULL",
                                    "3": "2008-09-15 15:00:15.827",
                                    "4": "Daniel Moura",
                                    "5": "18",
                                    "6": "NULL",
                                    "7": "2018-08-31 18:35:08.067",
                                    "8": "Brazil",
                                    "9": "6009",
                                    "10": "380",
                                    "11": "1071",
                                    "12": "",
                                    "13": "5109"
                                },
                                {
                                    "0": "8276",
                                    "1": "FAMOUS FOR A HIGH REPUTATION!",
                                    "2": "NULL",
                                    "3": "2008-09-15 15:36:09.170",
                                    "4": "caffo",
                                    "5": "2",
                                    "6": "NULL",
                                    "7": "2014-11-16 20:31:09.480",
                                    "8": "Brazil",
                                    "9": "1185",
                                    "10": "33",
                                    "11": "82",
                                    "12": "http://rodrigofranco.com",
                                    "13": "5210"
                                },
                                {
                                    "0": "8581",
                                    "1": "FAMOUS FOR A HIGH REPUTATION!",
                                    "2": "NULL",
                                    "3": "2008-09-15 16:23:15.300",
                                    "4": "Roberto Barros",
                                    "5": "3",
                                    "6": "NULL",
                                    "7": "2018-08-21 20:45:57.167",
                                    "8": "Brazil",
                                    "9": "1231",
                                    "10": "832",
                                    "11": "101",
                                    "12": "NULL",
                                    "13": "5356"
                                },
                                {
                                    "0": "8669",
                                    "1": "FAMOUS FOR A HIGH REPUTATION!",
                                    "2": "NULL",
                                    "3": "2008-09-15 16:34:06.817",
                                    "4": "Bruno Gomes",
                                    "5": "0",
                                    "6": "NULL",
                                    "7": "2018-08-31 19:01:01.977",
                                    "8": "Brazil",
                                    "9": "1019",
                                    "10": "47",
                                    "11": "56",
                                    "12": "",
                                    "13": "5395"
                                }
                            ]
                        },
                        "text/html": "<table><tr><th>Id</th><th>AboutMe</th><th>Age</th><th>CreationDate</th><th>DisplayName</th><th>DownVotes</th><th>EmailHash</th><th>LastAccessDate</th><th>Location</th><th>Reputation</th><th>UpVotes</th><th>Views</th><th>WebsiteUrl</th><th>AccountId</th></tr><tr><td>626</td><td>FAMOUS FOR A HIGH REPUTATION!</td><td>NULL</td><td>2008-08-07 11:52:05.957</td><td>Douglas Tosi</td><td>3</td><td>NULL</td><td>2018-01-12 16:44:17.287</td><td>Brazil</td><td>1814</td><td>154</td><td>287</td><td>http://www.sinatica.com</td><td>484</td></tr><tr><td>727</td><td>FAMOUS FOR A HIGH REPUTATION!</td><td>NULL</td><td>2008-08-08 12:16:17.820</td><td>Fabio Gomes</td><td>45</td><td>NULL</td><td>2018-09-01 18:52:56.917</td><td>Brazil</td><td>3668</td><td>596</td><td>800</td><td>http://yacoding.blogspot.com</td><td>561</td></tr><tr><td>802</td><td>FAMOUS FOR A HIGH REPUTATION!</td><td>NULL</td><td>2008-08-09 02:50:52.577</td><td>Flávio Amieiro</td><td>7</td><td>NULL</td><td>2018-06-04 09:13:58.670</td><td>Brazil</td><td>14497</td><td>258</td><td>678</td><td>http://flavioamieiro.com</td><td>612</td></tr><tr><td>1100</td><td>FAMOUS FOR A HIGH REPUTATION!</td><td>NULL</td><td>2008-08-12 11:58:29.663</td><td>Daniel Silveira</td><td>14</td><td>NULL</td><td>2013-09-14 02:52:14.097</td><td>Brazil</td><td>15931</td><td>295</td><td>1461</td><td>http://enerjy.sys-con.com/author/6412</td><td>839</td></tr><tr><td>1213</td><td></td><td>NULL</td><td>2008-08-13 13:18:30.890</td><td>André Casteliano</td><td>1</td><td>NULL</td><td>2018-08-29 17:37:35.787</td><td>Brazil</td><td>433</td><td>131</td><td>76</td><td>NULL</td><td>922</td></tr><tr><td>2015</td><td>&lt;p&gt;Product Manager and Developer at a financial technology provider.&lt;/p&gt;\n\n&lt;p&gt;Living and working in Rio de Janeiro, Brazil&lt;/p&gt;\n</td><td>NULL</td><td>2008-08-19 19:42:43.420</td><td>Gustavo</td><td>12</td><td>NULL</td><td>2018-08-21 13:45:51.207</td><td>Brazil</td><td>603</td><td>576</td><td>235</td><td></td><td>1509</td></tr><tr><td>2267</td><td></td><td>NULL</td><td>2008-08-21 12:23:14.943</td><td>João Vieira</td><td>0</td><td>NULL</td><td>2018-09-01 13:26:59.693</td><td>Brazil</td><td>933</td><td>197</td><td>102</td><td>http://www.sia.net.br</td><td>1679</td></tr><tr><td>2274</td><td>FAMOUS FOR A HIGH REPUTATION!</td><td>NULL</td><td>2008-08-21 12:44:42.223</td><td>Fernando Barrocal</td><td>71</td><td>NULL</td><td>2018-08-31 14:46:27.387</td><td>Brazil</td><td>6286</td><td>107</td><td>529</td><td>http://fernando.barrocal.com/</td><td>1685</td></tr><tr><td>2333</td><td></td><td>NULL</td><td>2008-08-21 16:56:11.823</td><td>Felipe</td><td>0</td><td>NULL</td><td>2008-09-28 07:38:25.930</td><td>Brazil</td><td>58</td><td>5</td><td>14</td><td>http://felipc.com</td><td>1725</td></tr><tr><td>3031</td><td>Developer!</td><td>NULL</td><td>2008-08-26 12:46:22.053</td><td>zaca</td><td>0</td><td>NULL</td><td>2012-10-09 13:20:45.547</td><td>Brazil</td><td>526</td><td>115</td><td>53</td><td>http://thebrainfarm.net</td><td>2204</td></tr><tr><td>3485</td><td>FAMOUS FOR A HIGH REPUTATION!</td><td>NULL</td><td>2008-08-28 18:14:08.583</td><td>Hoffmann</td><td>10</td><td>NULL</td><td>2018-08-25 23:00:48.793</td><td>Brazil</td><td>7073</td><td>719</td><td>1145</td><td></td><td>2503</td></tr><tr><td>4213</td><td>FAMOUS FOR A HIGH REPUTATION!</td><td>NULL</td><td>2008-09-02 11:02:12.420</td><td>Marcio Aguiar</td><td>21</td><td>NULL</td><td>2018-08-31 15:50:10.790</td><td>Brazil</td><td>11195</td><td>246</td><td>808</td><td></td><td>2968</td></tr><tr><td>4384</td><td>FAMOUS FOR A HIGH REPUTATION!</td><td>NULL</td><td>2008-09-03 11:45:32.870</td><td>daniel</td><td>0</td><td>NULL</td><td>2012-06-27 18:45:56.317</td><td>Brazil</td><td>1058</td><td>9</td><td>101</td><td>NULL</td><td>3088</td></tr><tr><td>6378</td><td></td><td>NULL</td><td>2008-09-15 03:44:56.777</td><td>Fernando</td><td>4</td><td>NULL</td><td>2015-03-17 20:39:28.013</td><td>Brazil</td><td>338</td><td>43</td><td>67</td><td></td><td>4286</td></tr><tr><td>6652</td><td></td><td>NULL</td><td>2008-09-15 12:25:52.483</td><td>Luis HGO</td><td>0</td><td>NULL</td><td>2016-11-24 16:24:22.947</td><td>Brazil</td><td>13</td><td>0</td><td>21</td><td>NULL</td><td>4432</td></tr><tr><td>7415</td><td>Not much.</td><td>NULL</td><td>2008-09-15 13:42:11.050</td><td>Salsa</td><td>0</td><td>NULL</td><td>2018-01-31 17:15:23.853</td><td>Brazil</td><td>559</td><td>48</td><td>83</td><td>http://none</td><td>4805</td></tr><tr><td>8041</td><td>FAMOUS FOR A HIGH REPUTATION!</td><td>NULL</td><td>2008-09-15 15:00:15.827</td><td>Daniel Moura</td><td>18</td><td>NULL</td><td>2018-08-31 18:35:08.067</td><td>Brazil</td><td>6009</td><td>380</td><td>1071</td><td></td><td>5109</td></tr><tr><td>8276</td><td>FAMOUS FOR A HIGH REPUTATION!</td><td>NULL</td><td>2008-09-15 15:36:09.170</td><td>caffo</td><td>2</td><td>NULL</td><td>2014-11-16 20:31:09.480</td><td>Brazil</td><td>1185</td><td>33</td><td>82</td><td>http://rodrigofranco.com</td><td>5210</td></tr><tr><td>8581</td><td>FAMOUS FOR A HIGH REPUTATION!</td><td>NULL</td><td>2008-09-15 16:23:15.300</td><td>Roberto Barros</td><td>3</td><td>NULL</td><td>2018-08-21 20:45:57.167</td><td>Brazil</td><td>1231</td><td>832</td><td>101</td><td>NULL</td><td>5356</td></tr><tr><td>8669</td><td>FAMOUS FOR A HIGH REPUTATION!</td><td>NULL</td><td>2008-09-15 16:34:06.817</td><td>Bruno Gomes</td><td>0</td><td>NULL</td><td>2018-08-31 19:01:01.977</td><td>Brazil</td><td>1019</td><td>47</td><td>56</td><td></td><td>5395</td></tr></table>"
                    },
                    "metadata": {}
                }
            ],
            "execution_count": 23
        },
        {
            "cell_type": "markdown",
            "source": "tl;dr: when you see the variables being set with the contents of a single row from the DELETED and INSERTED tables, you need to raise an urgent alarm because that trigger probably produces incorrect results when multiple rows are deleted/updated/inserted in a single statement.",
            "metadata": {}
        },
        {
            "cell_type": "markdown",
            "source": "",
            "metadata": {}
        }
    ]
}